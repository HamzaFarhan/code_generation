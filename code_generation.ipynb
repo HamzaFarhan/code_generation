{
 "cells": [
  {
   "cell_type": "code",
   "execution_count": 1,
   "metadata": {},
   "outputs": [],
   "source": [
    "from code_generation import generate_code, query_to_questions\n",
    "from IPython.display import Markdown\n",
    "\n",
    "%load_ext autoreload\n",
    "%autoreload 2\n",
    "%reload_ext autoreload"
   ]
  },
  {
   "cell_type": "code",
   "execution_count": 2,
   "metadata": {},
   "outputs": [],
   "source": [
    "course_name = (\n",
    "    \"geometry\"  # can be one of [\"geometry\", \"algebra\", \"counting_and_probability\"]\n",
    ")\n",
    "query = \"I want questions that test my knowledge area of cylinders\"\n",
    "questions = query_to_questions(query=query, course_name=course_name, n_questions=5)"
   ]
  },
  {
   "cell_type": "code",
   "execution_count": 9,
   "metadata": {},
   "outputs": [
    {
     "data": {
      "text/plain": [
       "{'id': 714,\n",
       " 'problem': 'The formula for the total surface area of a cylinder is $SA = 2\\\\pi r^2 + 2\\\\pi rh,$ where $r$ is the radius and $h$ is the height. A particular solid right cylinder of radius 2 feet has a total surface area of $12\\\\pi$ square feet. What is the height of this cylinder?',\n",
       " 'level': 'Level 2',\n",
       " 'type': 'Geometry',\n",
       " 'solution': 'Let the height of the cylinder be $h$; we then have \\\\[SA = 2\\\\pi (2^2)+2\\\\pi (2)(h) = 12\\\\pi.\\\\]Solving yields $4\\\\pi h = 4 \\\\pi$ so $h = \\\\boxed{1}$ foot.',\n",
       " 'topic': 'Solids',\n",
       " 'sub_topic': 'Volume and Surface Area of Cylinders',\n",
       " 'learning_objectives': ['application']}"
      ]
     },
     "execution_count": 9,
     "metadata": {},
     "output_type": "execute_result"
    }
   ],
   "source": [
    "question = questions[1]\n",
    "question"
   ]
  },
  {
   "cell_type": "code",
   "execution_count": 10,
   "metadata": {},
   "outputs": [],
   "source": [
    "code = generate_code(question=question)"
   ]
  },
  {
   "cell_type": "code",
   "execution_count": 11,
   "metadata": {},
   "outputs": [
    {
     "data": {
      "text/markdown": [
       "```python\n",
       "import random\n",
       "from sympy import symbols, Eq, solve, pi\n",
       "def generate_cylinder_height_problem():\n",
       "    # Generate a random radius between 1 and 5 for variety\n",
       "    radius = random.randint(1, 5)\n",
       "    # Generate a random surface area between 10pi and 30pi for variety\n",
       "    surface_area = random.randint(10, 30) * pi\n",
       "    # Define symbols\n",
       "    r, h = symbols('r h')\n",
       "    # Formulate the equation based on the problem statement\n",
       "    eq = Eq(2*pi*r**2 + 2*pi*r*h, surface_area)\n",
       "    # Solve the equation for h, with the given radius value\n",
       "    solution = solve(eq.subs(r, radius), h)\n",
       "    # Extract the height (solution)\n",
       "    height = solution[0]\n",
       "    # Sub-questions\n",
       "    sub_questions = [\n",
       "        { \"question\": \"Calculate the surface area of the cylinder with radius \" + str(radius) + \" feet.\", \"answer\": surface_area, \"explanation\": \"The surface area is calculated using the formula SA = 2\\pi r^2 + 2\\pi rh. Given the radius, we substitute it into the formula to find the surface area.\" },\n",
       "        { \"question\": \"What is the height of the cylinder given its surface area is \" + str(surface_area) + \" square feet and radius \" + str(radius) + \" feet?\", \"answer\": height, \"explanation\": \"To find the height, we solve the equation 2\\pi r^2 + 2\\pi rh = surface area for h, substituting the given radius and surface area.\" }\n",
       "    ]\n",
       "    return { \"question\": \"The formula for the total surface area of a cylinder is SA = 2\\pi r^2 + 2\\pi rh, where r is the radius and h is the height. A particular solid right cylinder of radius \" + str(radius) + \" feet has a total surface area of \" + str(surface_area) + \" square feet. What is the height of this cylinder?\", \"final_answer\": height, \"sub_questions\": sub_questions }\n",
       "\n",
       "# Example of function usage\n",
       "result = generate_cylinder_height_problem()\n",
       "print(result[\"question\"])\n",
       "for sub_q in result[\"sub_questions\"]:\n",
       "    print(sub_q[\"question\"], \"Answer:\", sub_q[\"answer\"], \"-\", sub_q[\"explanation\"])\n",
       "print(\"Height of the cylinder:\", result[\"final_answer\"])\n",
       "```"
      ],
      "text/plain": [
       "<IPython.core.display.Markdown object>"
      ]
     },
     "execution_count": 11,
     "metadata": {},
     "output_type": "execute_result"
    }
   ],
   "source": [
    "Markdown(code)"
   ]
  },
  {
   "cell_type": "code",
   "execution_count": null,
   "metadata": {},
   "outputs": [],
   "source": [
    "new_code = generate_code(\n",
    "    question=question, prev_code=code, feedback=\"Not enough sub_questions\"\n",
    ")"
   ]
  }
 ],
 "metadata": {
  "kernelspec": {
   "display_name": ".venv",
   "language": "python",
   "name": "python3"
  },
  "language_info": {
   "codemirror_mode": {
    "name": "ipython",
    "version": 3
   },
   "file_extension": ".py",
   "mimetype": "text/x-python",
   "name": "python",
   "nbconvert_exporter": "python",
   "pygments_lexer": "ipython3",
   "version": "3.11.5"
  }
 },
 "nbformat": 4,
 "nbformat_minor": 2
}
